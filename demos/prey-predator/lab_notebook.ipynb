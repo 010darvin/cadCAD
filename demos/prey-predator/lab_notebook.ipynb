{
 "cells": [
  {
   "cell_type": "markdown",
   "metadata": {},
   "source": [
    "# Prey Predator Lab Notebook\n",
    "\n",
    "(to edit this notebook and the associated python files, `git checkout` the corresponding commit by its hash, eg. `git checkout 422024d`)"
   ]
  },
  {
   "cell_type": "code",
   "execution_count": null,
   "metadata": {},
   "outputs": [],
   "source": [
    "from IPython.display import display, Markdown\n",
    "from datetime import datetime\n",
    "cur_datetime = datetime.now()\n",
    "display(Markdown(f'# {cur_datetime.strftime(\"%d/%b/%Y %H:%M\")}'))"
   ]
  },
  {
   "cell_type": "markdown",
   "metadata": {},
   "source": [
    "# Prey Predator dynamics on SD and ABM\n",
    "\n",
    "On this notebook, we'll explore and visualize how P&P behave both in an dynamic system formalism, as in an agent-based one. Both models were written on cadCAD - an library for Complex Adaptive Dynamics simulations which allows you to mix and prototype different modelling paradigms in an reproducible and consistent manner."
   ]
  },
  {
   "cell_type": "code",
   "execution_count": null,
   "metadata": {},
   "outputs": [],
   "source": [
    "%%capture\n",
    "%matplotlib inline\n",
    "\n",
    "# Dependences\n",
    "from time import time\n",
    "import matplotlib.pyplot as plt\n",
    "import seaborn as sns\n",
    "import pandas as pd\n",
    "import numpy as np\n",
    "\n",
    "# Experiments\n",
    "import run"
   ]
  },
  {
   "cell_type": "code",
   "execution_count": null,
   "metadata": {},
   "outputs": [],
   "source": [
    "# Run all experiments. Typical run duration for an Core-i3 laptop is about 2-3min.\n",
    "# Tweak the prey_predator_abm/sim_params.py file if you want it to take longer (or not).\n",
    "start_time = time()\n",
    "experiments = run.run()\n",
    "end_time = time()\n",
    "print(\"Execution in {:.1f}s\".format(end_time - start_time))"
   ]
  },
  {
   "cell_type": "markdown",
   "metadata": {},
   "source": [
    "### Dynamical System: Lotka-Volterra\n",
    "\n",
    "This is the standard introductory model for Prey-Predator interactions and dynamical systems in general. It is based on the following equations:\n",
    "\n",
    "\\begin{aligned}{\\frac {d}{dt}Prey}&=\\alpha * Prey-\\beta * Prey * Predators,\\\\{\\frac {d}{dt}Predators}&=\\delta * Prey * Predators-\\gamma * Predators,\\end{aligned}\n",
    "\n",
    "Where $\\alpha$ and $\\gamma$  are the prey growth rate and predator elimination rate, and $\\delta$ and $\\gamma$ are interaction factors between preys and predators.\n",
    "\n",
    "The most promenient feature of it is the existence, depending on the choice of parameters, of an repeteable cycle around an fixed point which creates an dynamical equilibrium between the number of preys and predators on an system."
   ]
  },
  {
   "cell_type": "code",
   "execution_count": null,
   "metadata": {},
   "outputs": [],
   "source": [
    "plt.figure(figsize=(10, 5))\n",
    "sns.scatterplot(data=experiments.dataset[0],\n",
    "                x='prey_population',\n",
    "                y='predator_population',\n",
    "                hue='timestep',\n",
    "                marker='.')\n",
    "plt.show()"
   ]
  },
  {
   "cell_type": "markdown",
   "metadata": {},
   "source": [
    "## Agent-based modelling\n",
    "\n",
    "There are a lot of possible ABMs for any given phenomenon. The beauty of cadCAD is that it'll allow you to put, modify and remove simulation blocks and steps at will. \n",
    "\n",
    "For this demo, we'll adopt an model based on an grid world, on which preys and predators do the following steps on each phase of their discrete and numerical lifes:\n",
    "\n",
    "1. (before anything) Food is grown on every site.\n",
    "2. All agents digests some of the food on their stomach and olden themselves.\n",
    "3. All agents move or not to an available random neighboring location.\n",
    "4. The agents reproduce themselves if there is an available partner nearby\n",
    "5. The prey agents feed on the available food\n",
    "6. The predator agents hunts the nearby preys\n",
    "7. All old enough agents die\n",
    "\n",
    "There is an inherent stochastic nature on this model, and every time that you run it, we'll have an completely different simulation for the same parameters. But we can see that there is sort of an random equilibrium that converges to the dynamical equilibrium which we presented on the dynamical simulation.\n",
    "\n",
    "There is an bonus that ABMs can contain an very dense set of informations to which analyse. We'll plot only the most obvious ones, but the world is yours if you want to trace the network relations between the agents, or the geospatial statistics around the ABM."
   ]
  },
  {
   "cell_type": "code",
   "execution_count": null,
   "metadata": {},
   "outputs": [],
   "source": [
    "# Get the ABM results\n",
    "agent_ds = experiments.dataset[1].agents\n",
    "site_ds = experiments.dataset[1].sites\n",
    "timesteps = experiments.dataset[1].timestep"
   ]
  },
  {
   "cell_type": "code",
   "execution_count": null,
   "metadata": {},
   "outputs": [],
   "source": [
    "# Get metrics\n",
    "\n",
    "## Agent quantity\n",
    "prey_count = agent_ds.map(lambda s: sum([1 for agent in s.values() if agent['type'] == 'prey']))\n",
    "predator_count = agent_ds.map(lambda s: sum([1 for agent in s.values() if agent['type'] == 'predator']))\n",
    "\n",
    "\n",
    "## Food quantity\n",
    "food_at_sites = site_ds.map(lambda s: s.sum())\n",
    "food_at_prey = agent_ds.map(lambda s: sum([agent['food'] \n",
    "                                           for agent \n",
    "                                           in s.values() if agent['type'] == 'prey']))\n",
    "food_at_predators = agent_ds.map(lambda s: sum([agent['food'] \n",
    "                                                for agent in s.values() \n",
    "                                                if agent['type'] == 'predator']))\n",
    "\n",
    "## Food metrics\n",
    "median_site_food = site_ds.map(lambda s: np.median(s)) \n",
    "median_prey_food = agent_ds.map(lambda s: np.median([agent['food'] \n",
    "                                                     for agent in s.values() \n",
    "                                                     if agent['type'] == 'prey']))\n",
    "median_predator_food = agent_ds.map(lambda s: np.median([agent['food'] \n",
    "                                                         for agent in s.values() \n",
    "                                                         if agent['type'] == 'predator']))\n",
    "\n",
    "## Age metrics\n",
    "prey_median_age = agent_ds.map(lambda s: np.median([agent['age'] for agent in s.values() if agent['type'] == 'prey']))\n",
    "predator_median_age = agent_ds.map(lambda s: np.median([agent['age'] for agent in s.values() if agent['type'] == 'predator']))\n",
    "\n",
    "# Create an analysis dataset\n",
    "data = (pd.DataFrame({'timestep': timesteps,\n",
    "                      'prey_count': prey_count,\n",
    "                      'predator_count': predator_count,\n",
    "                      'food_at_sites': food_at_sites,\n",
    "                      'food_at_prey': food_at_prey,\n",
    "                      'food_at_predators': food_at_predators,\n",
    "                      'median_site_food': median_site_food,\n",
    "                      'median_prey_food': median_prey_food,\n",
    "                      'median_predator_food': median_predator_food,\n",
    "                      'prey_median_age': prey_median_age,\n",
    "                      'predator_median_age': predator_median_age})       \n",
    "       )"
   ]
  },
  {
   "cell_type": "markdown",
   "metadata": {},
   "source": [
    "### An temporal summary for the simulation\n",
    "\n",
    "On the following plot, we can see how the prey, predator and available food changes along time. Can you see any cyclical patterns?"
   ]
  },
  {
   "cell_type": "code",
   "execution_count": null,
   "metadata": {},
   "outputs": [],
   "source": [
    "plt.figure(figsize=(12, 4), dpi=150)\n",
    "plt.plot(timesteps,\n",
    "         prey_count / prey_count.max(),\n",
    "         '-',\n",
    "         color='C0',\n",
    "         label='Prey count (normed)')\n",
    "plt.plot(timesteps,\n",
    "         predator_count / predator_count.max(),\n",
    "         '-',\n",
    "         color='C1',\n",
    "         label='Predator count (normed)')\n",
    "plt.plot(timesteps,\n",
    "         food_at_sites / food_at_sites.max(),\n",
    "         '-',\n",
    "         color='C2', \n",
    "         label='Food count (normed)')\n",
    "plt.xlabel('Timestep')\n",
    "plt.legend()\n",
    "plt.show()"
   ]
  },
  {
   "cell_type": "markdown",
   "metadata": {},
   "source": [
    "### Prey predator phase space\n",
    "\n",
    "Note that it sorts of converges, in an chaotic manner, to the dynamical system model"
   ]
  },
  {
   "cell_type": "code",
   "execution_count": null,
   "metadata": {},
   "outputs": [],
   "source": [
    "plt.figure(figsize=(12, 4), dpi=150)\n",
    "sns.scatterplot(data=data,\n",
    "                x='prey_count',\n",
    "                y='predator_count',\n",
    "                hue='timestep')\n",
    "plt.show()"
   ]
  },
  {
   "cell_type": "markdown",
   "metadata": {},
   "source": [
    "### Prey prevalence vs food availability on the world\n",
    "\n",
    "There is an inverse relation between the available world food, and the number of prey.\n",
    "\n",
    "Why there is an increasing variance when the number of prey is larger?"
   ]
  },
  {
   "cell_type": "code",
   "execution_count": null,
   "metadata": {},
   "outputs": [],
   "source": [
    "plt.figure(figsize=(12, 4), dpi=150)\n",
    "sns.scatterplot(data=data,\n",
    "                x='prey_count',\n",
    "                y='food_at_sites',\n",
    "                hue='timestep')\n",
    "plt.show()"
   ]
  },
  {
   "cell_type": "markdown",
   "metadata": {},
   "source": [
    "#### Food inside agents stomachs\n",
    "\n",
    "In median, the prey stomachs are always sort of full, while the predators stomach has an spectrum between hunger and fullness."
   ]
  },
  {
   "cell_type": "code",
   "execution_count": null,
   "metadata": {},
   "outputs": [],
   "source": [
    "plt.figure(figsize=(12, 4), dpi=150)\n",
    "sns.scatterplot(data=data,\n",
    "                x='median_predator_food',\n",
    "                y='median_prey_food',\n",
    "                hue='timestep')\n",
    "plt.show()"
   ]
  },
  {
   "cell_type": "markdown",
   "metadata": {},
   "source": [
    "### Brute force plotting\n",
    "\n",
    "There are a lot of patterns to explore and extract knowlodge. On the following plot, you can see all pairwise variable comparisons. Can you notice anything interesting to investigate it further?"
   ]
  },
  {
   "cell_type": "code",
   "execution_count": null,
   "metadata": {},
   "outputs": [],
   "source": [
    "sns.pairplot(data=data, \n",
    "             diag_kind='kde', \n",
    "             markers='+')\n",
    "plt.show()"
   ]
  },
  {
   "cell_type": "markdown",
   "metadata": {},
   "source": [
    "### Conclusions and final words\n",
    "\n",
    "We explored here two different paradigms for modelling: the dynamic system one, which captures an macroscopical view of the system, and the agent-based one, which uses an microscopic view for the system. Depending on the targets and considerations, both can be equivalent or completely distinct, but can be also complementary. cadCAD allows you to mix them at will, so you can have hybrid models where agent behaviour and environment are shaped by complex dynamical systems. There is an whole multiverse of mixed simulations that you can do (challenges on next block for you to try!).\n",
    "\n",
    "Obviously, both paradigms have some characteristics, which in general manner we can express as being:\n",
    "\n",
    "#### Dynamical system (macroscopic view) advantages\n",
    "\n",
    "* Fast-performing, allowing an very large number of timesteps and simulations\n",
    "* Easier to prototype and to add/modify mechanisms\n",
    "* Easier to insert a multitude of complex factors\n",
    "* The output is usually easy to visualize\n",
    "* Inner workings are more transparent\n",
    "\n",
    "#### Agent-based modelling (microscopic view) advantages\n",
    "\n",
    "* Are conceptually closer to experience, making easier to explain\n",
    "* There is more allowance on stochastic mechanisms and logic\n",
    "* Easier to generate complex behaviour with simple rules\n",
    "* Generates more granular and detailed information\n",
    "* Inner workings have more depth\n"
   ]
  },
  {
   "cell_type": "markdown",
   "metadata": {},
   "source": [
    "### Proposed challenges\n",
    "\n",
    "#### Sazonability of food growth\n",
    "\n",
    "An quick way to mix the ABM and SD paradigms is by the following: what if the food growth depends on an dynamical system? \n",
    "\n",
    "You can model that by modifying the food growth policy, like by inserting an sazonability which depends on the timestep for example. Or you could go even further and try to express it as depending on an irradiance-based dynamical system which models the Sun position according to Earth's movements (rotation, translation, recession and nutation). How much do you think that those layers of additional complexity will add to knowledge behind the physical system which we are modelling?\n",
    "\n",
    "#### Stochasticity of the agents decisions\n",
    "\n",
    "When the agents takes its actions (move, reproduce and eat), there is an randomness about where they'll do it, but not about if they actually decide to do it. What if the decision was random instead of always doing it? What if this decision depends on an given probability distribution? And what if the decision was shaped by the nearby enviroment, like predator presence and food availability nearby?\n",
    "\n",
    "#### Agent death by exponential probability\n",
    "\n",
    "All agents die when the maximum lifespan arrives. Can you modify the ABM for having an associated spontaneous death probability according to exponential distribution? Something which makes almost all young agents live, but most old ones to die? What if this probability is shaped somehow to the agent health, like the fullness/emptiness of his stomach?\n",
    "\n",
    "#### Prey evolution & adaptation\n",
    "\n",
    "This is the master challenge.  What if the preys had individually variable attributes which could bring them competitive advantages? Like movement speed, reproduction rate, or different lifespans? What if those attributes were mutated and passed on their offspring?\n",
    "\n",
    "This is the Darwinian version of the P&P ABM. **Are you the fittest of the cadCAD modellers?**"
   ]
  }
 ],
 "metadata": {
  "kernelspec": {
   "display_name": "Python 3",
   "language": "python",
   "name": "python3"
  },
  "language_info": {
   "codemirror_mode": {
    "name": "ipython",
    "version": 3
   },
   "file_extension": ".py",
   "mimetype": "text/x-python",
   "name": "python",
   "nbconvert_exporter": "python",
   "pygments_lexer": "ipython3",
   "version": "3.7.5"
  }
 },
 "nbformat": 4,
 "nbformat_minor": 4
}
